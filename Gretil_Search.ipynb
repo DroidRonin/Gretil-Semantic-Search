{
  "nbformat": 4,
  "nbformat_minor": 0,
  "metadata": {
    "colab": {
      "provenance": []
    },
    "kernelspec": {
      "name": "python3",
      "display_name": "Python 3"
    },
    "language_info": {
      "name": "python"
    },
    "widgets": {
      "application/vnd.jupyter.widget-state+json": {
        "e86757cc3cd8449abbc80556308cffa4": {
          "model_module": "@jupyter-widgets/controls",
          "model_name": "HBoxModel",
          "model_module_version": "1.5.0",
          "state": {
            "_dom_classes": [],
            "_model_module": "@jupyter-widgets/controls",
            "_model_module_version": "1.5.0",
            "_model_name": "HBoxModel",
            "_view_count": null,
            "_view_module": "@jupyter-widgets/controls",
            "_view_module_version": "1.5.0",
            "_view_name": "HBoxView",
            "box_style": "",
            "children": [
              "IPY_MODEL_2684ea7ae86441fe987acece594ff3ef",
              "IPY_MODEL_6c0e67aa5641455094bdc69f22798485",
              "IPY_MODEL_f2d48460596746f4b18dc04f2e95c752"
            ],
            "layout": "IPY_MODEL_954860e26bc74776895d3ace9ea83f09"
          }
        },
        "2684ea7ae86441fe987acece594ff3ef": {
          "model_module": "@jupyter-widgets/controls",
          "model_name": "HTMLModel",
          "model_module_version": "1.5.0",
          "state": {
            "_dom_classes": [],
            "_model_module": "@jupyter-widgets/controls",
            "_model_module_version": "1.5.0",
            "_model_name": "HTMLModel",
            "_view_count": null,
            "_view_module": "@jupyter-widgets/controls",
            "_view_module_version": "1.5.0",
            "_view_name": "HTMLView",
            "description": "",
            "description_tooltip": null,
            "layout": "IPY_MODEL_a778fcd78edb4e2384e2120a72b6ee5d",
            "placeholder": "​",
            "style": "IPY_MODEL_72c52bfcefe34de78db582a6829b6341",
            "value": "pytorch_model.bin: 100%"
          }
        },
        "6c0e67aa5641455094bdc69f22798485": {
          "model_module": "@jupyter-widgets/controls",
          "model_name": "FloatProgressModel",
          "model_module_version": "1.5.0",
          "state": {
            "_dom_classes": [],
            "_model_module": "@jupyter-widgets/controls",
            "_model_module_version": "1.5.0",
            "_model_name": "FloatProgressModel",
            "_view_count": null,
            "_view_module": "@jupyter-widgets/controls",
            "_view_module_version": "1.5.0",
            "_view_name": "ProgressView",
            "bar_style": "success",
            "description": "",
            "description_tooltip": null,
            "layout": "IPY_MODEL_5399761255f648f4bfc92ce038df25f9",
            "max": 2326694409,
            "min": 0,
            "orientation": "horizontal",
            "style": "IPY_MODEL_b1aaa74be656456395913595e56228f0",
            "value": 2326694409
          }
        },
        "f2d48460596746f4b18dc04f2e95c752": {
          "model_module": "@jupyter-widgets/controls",
          "model_name": "HTMLModel",
          "model_module_version": "1.5.0",
          "state": {
            "_dom_classes": [],
            "_model_module": "@jupyter-widgets/controls",
            "_model_module_version": "1.5.0",
            "_model_name": "HTMLModel",
            "_view_count": null,
            "_view_module": "@jupyter-widgets/controls",
            "_view_module_version": "1.5.0",
            "_view_name": "HTMLView",
            "description": "",
            "description_tooltip": null,
            "layout": "IPY_MODEL_e953608b01734774b24870e4ff21a49e",
            "placeholder": "​",
            "style": "IPY_MODEL_0967438420d84588a30d8ea8331eed4a",
            "value": " 2.33G/2.33G [01:14&lt;00:00, 23.1MB/s]"
          }
        },
        "954860e26bc74776895d3ace9ea83f09": {
          "model_module": "@jupyter-widgets/base",
          "model_name": "LayoutModel",
          "model_module_version": "1.2.0",
          "state": {
            "_model_module": "@jupyter-widgets/base",
            "_model_module_version": "1.2.0",
            "_model_name": "LayoutModel",
            "_view_count": null,
            "_view_module": "@jupyter-widgets/base",
            "_view_module_version": "1.2.0",
            "_view_name": "LayoutView",
            "align_content": null,
            "align_items": null,
            "align_self": null,
            "border": null,
            "bottom": null,
            "display": null,
            "flex": null,
            "flex_flow": null,
            "grid_area": null,
            "grid_auto_columns": null,
            "grid_auto_flow": null,
            "grid_auto_rows": null,
            "grid_column": null,
            "grid_gap": null,
            "grid_row": null,
            "grid_template_areas": null,
            "grid_template_columns": null,
            "grid_template_rows": null,
            "height": null,
            "justify_content": null,
            "justify_items": null,
            "left": null,
            "margin": null,
            "max_height": null,
            "max_width": null,
            "min_height": null,
            "min_width": null,
            "object_fit": null,
            "object_position": null,
            "order": null,
            "overflow": null,
            "overflow_x": null,
            "overflow_y": null,
            "padding": null,
            "right": null,
            "top": null,
            "visibility": null,
            "width": null
          }
        },
        "a778fcd78edb4e2384e2120a72b6ee5d": {
          "model_module": "@jupyter-widgets/base",
          "model_name": "LayoutModel",
          "model_module_version": "1.2.0",
          "state": {
            "_model_module": "@jupyter-widgets/base",
            "_model_module_version": "1.2.0",
            "_model_name": "LayoutModel",
            "_view_count": null,
            "_view_module": "@jupyter-widgets/base",
            "_view_module_version": "1.2.0",
            "_view_name": "LayoutView",
            "align_content": null,
            "align_items": null,
            "align_self": null,
            "border": null,
            "bottom": null,
            "display": null,
            "flex": null,
            "flex_flow": null,
            "grid_area": null,
            "grid_auto_columns": null,
            "grid_auto_flow": null,
            "grid_auto_rows": null,
            "grid_column": null,
            "grid_gap": null,
            "grid_row": null,
            "grid_template_areas": null,
            "grid_template_columns": null,
            "grid_template_rows": null,
            "height": null,
            "justify_content": null,
            "justify_items": null,
            "left": null,
            "margin": null,
            "max_height": null,
            "max_width": null,
            "min_height": null,
            "min_width": null,
            "object_fit": null,
            "object_position": null,
            "order": null,
            "overflow": null,
            "overflow_x": null,
            "overflow_y": null,
            "padding": null,
            "right": null,
            "top": null,
            "visibility": null,
            "width": null
          }
        },
        "72c52bfcefe34de78db582a6829b6341": {
          "model_module": "@jupyter-widgets/controls",
          "model_name": "DescriptionStyleModel",
          "model_module_version": "1.5.0",
          "state": {
            "_model_module": "@jupyter-widgets/controls",
            "_model_module_version": "1.5.0",
            "_model_name": "DescriptionStyleModel",
            "_view_count": null,
            "_view_module": "@jupyter-widgets/base",
            "_view_module_version": "1.2.0",
            "_view_name": "StyleView",
            "description_width": ""
          }
        },
        "5399761255f648f4bfc92ce038df25f9": {
          "model_module": "@jupyter-widgets/base",
          "model_name": "LayoutModel",
          "model_module_version": "1.2.0",
          "state": {
            "_model_module": "@jupyter-widgets/base",
            "_model_module_version": "1.2.0",
            "_model_name": "LayoutModel",
            "_view_count": null,
            "_view_module": "@jupyter-widgets/base",
            "_view_module_version": "1.2.0",
            "_view_name": "LayoutView",
            "align_content": null,
            "align_items": null,
            "align_self": null,
            "border": null,
            "bottom": null,
            "display": null,
            "flex": null,
            "flex_flow": null,
            "grid_area": null,
            "grid_auto_columns": null,
            "grid_auto_flow": null,
            "grid_auto_rows": null,
            "grid_column": null,
            "grid_gap": null,
            "grid_row": null,
            "grid_template_areas": null,
            "grid_template_columns": null,
            "grid_template_rows": null,
            "height": null,
            "justify_content": null,
            "justify_items": null,
            "left": null,
            "margin": null,
            "max_height": null,
            "max_width": null,
            "min_height": null,
            "min_width": null,
            "object_fit": null,
            "object_position": null,
            "order": null,
            "overflow": null,
            "overflow_x": null,
            "overflow_y": null,
            "padding": null,
            "right": null,
            "top": null,
            "visibility": null,
            "width": null
          }
        },
        "b1aaa74be656456395913595e56228f0": {
          "model_module": "@jupyter-widgets/controls",
          "model_name": "ProgressStyleModel",
          "model_module_version": "1.5.0",
          "state": {
            "_model_module": "@jupyter-widgets/controls",
            "_model_module_version": "1.5.0",
            "_model_name": "ProgressStyleModel",
            "_view_count": null,
            "_view_module": "@jupyter-widgets/base",
            "_view_module_version": "1.2.0",
            "_view_name": "StyleView",
            "bar_color": null,
            "description_width": ""
          }
        },
        "e953608b01734774b24870e4ff21a49e": {
          "model_module": "@jupyter-widgets/base",
          "model_name": "LayoutModel",
          "model_module_version": "1.2.0",
          "state": {
            "_model_module": "@jupyter-widgets/base",
            "_model_module_version": "1.2.0",
            "_model_name": "LayoutModel",
            "_view_count": null,
            "_view_module": "@jupyter-widgets/base",
            "_view_module_version": "1.2.0",
            "_view_name": "LayoutView",
            "align_content": null,
            "align_items": null,
            "align_self": null,
            "border": null,
            "bottom": null,
            "display": null,
            "flex": null,
            "flex_flow": null,
            "grid_area": null,
            "grid_auto_columns": null,
            "grid_auto_flow": null,
            "grid_auto_rows": null,
            "grid_column": null,
            "grid_gap": null,
            "grid_row": null,
            "grid_template_areas": null,
            "grid_template_columns": null,
            "grid_template_rows": null,
            "height": null,
            "justify_content": null,
            "justify_items": null,
            "left": null,
            "margin": null,
            "max_height": null,
            "max_width": null,
            "min_height": null,
            "min_width": null,
            "object_fit": null,
            "object_position": null,
            "order": null,
            "overflow": null,
            "overflow_x": null,
            "overflow_y": null,
            "padding": null,
            "right": null,
            "top": null,
            "visibility": null,
            "width": null
          }
        },
        "0967438420d84588a30d8ea8331eed4a": {
          "model_module": "@jupyter-widgets/controls",
          "model_name": "DescriptionStyleModel",
          "model_module_version": "1.5.0",
          "state": {
            "_model_module": "@jupyter-widgets/controls",
            "_model_module_version": "1.5.0",
            "_model_name": "DescriptionStyleModel",
            "_view_count": null,
            "_view_module": "@jupyter-widgets/base",
            "_view_module_version": "1.2.0",
            "_view_name": "StyleView",
            "description_width": ""
          }
        },
        "4b12f4b35daa4aa0b2c6ef590d733c5a": {
          "model_module": "@jupyter-widgets/controls",
          "model_name": "HBoxModel",
          "model_module_version": "1.5.0",
          "state": {
            "_dom_classes": [],
            "_model_module": "@jupyter-widgets/controls",
            "_model_module_version": "1.5.0",
            "_model_name": "HBoxModel",
            "_view_count": null,
            "_view_module": "@jupyter-widgets/controls",
            "_view_module_version": "1.5.0",
            "_view_name": "HBoxView",
            "box_style": "",
            "children": [
              "IPY_MODEL_0a339f34f5644fd692c2421d0992bd63",
              "IPY_MODEL_1a824bfdd0c64e2aaabd7eb71392b876",
              "IPY_MODEL_d9eb31ea38a54fb1a5c8a9eacef921f6"
            ],
            "layout": "IPY_MODEL_5fde80186df14b53989a31c5084a628e"
          }
        },
        "0a339f34f5644fd692c2421d0992bd63": {
          "model_module": "@jupyter-widgets/controls",
          "model_name": "HTMLModel",
          "model_module_version": "1.5.0",
          "state": {
            "_dom_classes": [],
            "_model_module": "@jupyter-widgets/controls",
            "_model_module_version": "1.5.0",
            "_model_name": "HTMLModel",
            "_view_count": null,
            "_view_module": "@jupyter-widgets/controls",
            "_view_module_version": "1.5.0",
            "_view_name": "HTMLView",
            "description": "",
            "description_tooltip": null,
            "layout": "IPY_MODEL_097951edbc8c458abd869f6b4355ea5b",
            "placeholder": "​",
            "style": "IPY_MODEL_dca26f20d58b48cb83b5b4877640482c",
            "value": "model.safetensors: 100%"
          }
        },
        "1a824bfdd0c64e2aaabd7eb71392b876": {
          "model_module": "@jupyter-widgets/controls",
          "model_name": "FloatProgressModel",
          "model_module_version": "1.5.0",
          "state": {
            "_dom_classes": [],
            "_model_module": "@jupyter-widgets/controls",
            "_model_module_version": "1.5.0",
            "_model_name": "FloatProgressModel",
            "_view_count": null,
            "_view_module": "@jupyter-widgets/controls",
            "_view_module_version": "1.5.0",
            "_view_name": "ProgressView",
            "bar_style": "success",
            "description": "",
            "description_tooltip": null,
            "layout": "IPY_MODEL_642b747284d141b2938fc7a30a76ee8c",
            "max": 2326643728,
            "min": 0,
            "orientation": "horizontal",
            "style": "IPY_MODEL_c93f4c70c8d8400692a423b62e729807",
            "value": 2326643728
          }
        },
        "d9eb31ea38a54fb1a5c8a9eacef921f6": {
          "model_module": "@jupyter-widgets/controls",
          "model_name": "HTMLModel",
          "model_module_version": "1.5.0",
          "state": {
            "_dom_classes": [],
            "_model_module": "@jupyter-widgets/controls",
            "_model_module_version": "1.5.0",
            "_model_name": "HTMLModel",
            "_view_count": null,
            "_view_module": "@jupyter-widgets/controls",
            "_view_module_version": "1.5.0",
            "_view_name": "HTMLView",
            "description": "",
            "description_tooltip": null,
            "layout": "IPY_MODEL_acc74414f9b64e63b4b581a43b049ac5",
            "placeholder": "​",
            "style": "IPY_MODEL_0bd8d5ddcdb141db95b5f79f1d39d55c",
            "value": " 2.33G/2.33G [03:11&lt;00:00, 21.0MB/s]"
          }
        },
        "5fde80186df14b53989a31c5084a628e": {
          "model_module": "@jupyter-widgets/base",
          "model_name": "LayoutModel",
          "model_module_version": "1.2.0",
          "state": {
            "_model_module": "@jupyter-widgets/base",
            "_model_module_version": "1.2.0",
            "_model_name": "LayoutModel",
            "_view_count": null,
            "_view_module": "@jupyter-widgets/base",
            "_view_module_version": "1.2.0",
            "_view_name": "LayoutView",
            "align_content": null,
            "align_items": null,
            "align_self": null,
            "border": null,
            "bottom": null,
            "display": null,
            "flex": null,
            "flex_flow": null,
            "grid_area": null,
            "grid_auto_columns": null,
            "grid_auto_flow": null,
            "grid_auto_rows": null,
            "grid_column": null,
            "grid_gap": null,
            "grid_row": null,
            "grid_template_areas": null,
            "grid_template_columns": null,
            "grid_template_rows": null,
            "height": null,
            "justify_content": null,
            "justify_items": null,
            "left": null,
            "margin": null,
            "max_height": null,
            "max_width": null,
            "min_height": null,
            "min_width": null,
            "object_fit": null,
            "object_position": null,
            "order": null,
            "overflow": null,
            "overflow_x": null,
            "overflow_y": null,
            "padding": null,
            "right": null,
            "top": null,
            "visibility": null,
            "width": null
          }
        },
        "097951edbc8c458abd869f6b4355ea5b": {
          "model_module": "@jupyter-widgets/base",
          "model_name": "LayoutModel",
          "model_module_version": "1.2.0",
          "state": {
            "_model_module": "@jupyter-widgets/base",
            "_model_module_version": "1.2.0",
            "_model_name": "LayoutModel",
            "_view_count": null,
            "_view_module": "@jupyter-widgets/base",
            "_view_module_version": "1.2.0",
            "_view_name": "LayoutView",
            "align_content": null,
            "align_items": null,
            "align_self": null,
            "border": null,
            "bottom": null,
            "display": null,
            "flex": null,
            "flex_flow": null,
            "grid_area": null,
            "grid_auto_columns": null,
            "grid_auto_flow": null,
            "grid_auto_rows": null,
            "grid_column": null,
            "grid_gap": null,
            "grid_row": null,
            "grid_template_areas": null,
            "grid_template_columns": null,
            "grid_template_rows": null,
            "height": null,
            "justify_content": null,
            "justify_items": null,
            "left": null,
            "margin": null,
            "max_height": null,
            "max_width": null,
            "min_height": null,
            "min_width": null,
            "object_fit": null,
            "object_position": null,
            "order": null,
            "overflow": null,
            "overflow_x": null,
            "overflow_y": null,
            "padding": null,
            "right": null,
            "top": null,
            "visibility": null,
            "width": null
          }
        },
        "dca26f20d58b48cb83b5b4877640482c": {
          "model_module": "@jupyter-widgets/controls",
          "model_name": "DescriptionStyleModel",
          "model_module_version": "1.5.0",
          "state": {
            "_model_module": "@jupyter-widgets/controls",
            "_model_module_version": "1.5.0",
            "_model_name": "DescriptionStyleModel",
            "_view_count": null,
            "_view_module": "@jupyter-widgets/base",
            "_view_module_version": "1.2.0",
            "_view_name": "StyleView",
            "description_width": ""
          }
        },
        "642b747284d141b2938fc7a30a76ee8c": {
          "model_module": "@jupyter-widgets/base",
          "model_name": "LayoutModel",
          "model_module_version": "1.2.0",
          "state": {
            "_model_module": "@jupyter-widgets/base",
            "_model_module_version": "1.2.0",
            "_model_name": "LayoutModel",
            "_view_count": null,
            "_view_module": "@jupyter-widgets/base",
            "_view_module_version": "1.2.0",
            "_view_name": "LayoutView",
            "align_content": null,
            "align_items": null,
            "align_self": null,
            "border": null,
            "bottom": null,
            "display": null,
            "flex": null,
            "flex_flow": null,
            "grid_area": null,
            "grid_auto_columns": null,
            "grid_auto_flow": null,
            "grid_auto_rows": null,
            "grid_column": null,
            "grid_gap": null,
            "grid_row": null,
            "grid_template_areas": null,
            "grid_template_columns": null,
            "grid_template_rows": null,
            "height": null,
            "justify_content": null,
            "justify_items": null,
            "left": null,
            "margin": null,
            "max_height": null,
            "max_width": null,
            "min_height": null,
            "min_width": null,
            "object_fit": null,
            "object_position": null,
            "order": null,
            "overflow": null,
            "overflow_x": null,
            "overflow_y": null,
            "padding": null,
            "right": null,
            "top": null,
            "visibility": null,
            "width": null
          }
        },
        "c93f4c70c8d8400692a423b62e729807": {
          "model_module": "@jupyter-widgets/controls",
          "model_name": "ProgressStyleModel",
          "model_module_version": "1.5.0",
          "state": {
            "_model_module": "@jupyter-widgets/controls",
            "_model_module_version": "1.5.0",
            "_model_name": "ProgressStyleModel",
            "_view_count": null,
            "_view_module": "@jupyter-widgets/base",
            "_view_module_version": "1.2.0",
            "_view_name": "StyleView",
            "bar_color": null,
            "description_width": ""
          }
        },
        "acc74414f9b64e63b4b581a43b049ac5": {
          "model_module": "@jupyter-widgets/base",
          "model_name": "LayoutModel",
          "model_module_version": "1.2.0",
          "state": {
            "_model_module": "@jupyter-widgets/base",
            "_model_module_version": "1.2.0",
            "_model_name": "LayoutModel",
            "_view_count": null,
            "_view_module": "@jupyter-widgets/base",
            "_view_module_version": "1.2.0",
            "_view_name": "LayoutView",
            "align_content": null,
            "align_items": null,
            "align_self": null,
            "border": null,
            "bottom": null,
            "display": null,
            "flex": null,
            "flex_flow": null,
            "grid_area": null,
            "grid_auto_columns": null,
            "grid_auto_flow": null,
            "grid_auto_rows": null,
            "grid_column": null,
            "grid_gap": null,
            "grid_row": null,
            "grid_template_areas": null,
            "grid_template_columns": null,
            "grid_template_rows": null,
            "height": null,
            "justify_content": null,
            "justify_items": null,
            "left": null,
            "margin": null,
            "max_height": null,
            "max_width": null,
            "min_height": null,
            "min_width": null,
            "object_fit": null,
            "object_position": null,
            "order": null,
            "overflow": null,
            "overflow_x": null,
            "overflow_y": null,
            "padding": null,
            "right": null,
            "top": null,
            "visibility": null,
            "width": null
          }
        },
        "0bd8d5ddcdb141db95b5f79f1d39d55c": {
          "model_module": "@jupyter-widgets/controls",
          "model_name": "DescriptionStyleModel",
          "model_module_version": "1.5.0",
          "state": {
            "_model_module": "@jupyter-widgets/controls",
            "_model_module_version": "1.5.0",
            "_model_name": "DescriptionStyleModel",
            "_view_count": null,
            "_view_module": "@jupyter-widgets/base",
            "_view_module_version": "1.2.0",
            "_view_name": "StyleView",
            "description_width": ""
          }
        }
      }
    }
  },
  "cells": [
    {
      "cell_type": "code",
      "execution_count": 5,
      "metadata": {
        "colab": {
          "base_uri": "https://localhost:8080/"
        },
        "id": "nvxGK17Y2bGO",
        "outputId": "d6d0b539-fee0-46f7-de66-265e51e03370"
      },
      "outputs": [
        {
          "output_type": "stream",
          "name": "stdout",
          "text": [
            "Requirement already satisfied: torch in /usr/local/lib/python3.12/dist-packages (2.8.0+cu126)\n",
            "Requirement already satisfied: transformers in /usr/local/lib/python3.12/dist-packages (4.55.4)\n",
            "Collecting faiss-cpu\n",
            "  Downloading faiss_cpu-1.12.0-cp312-cp312-manylinux_2_27_x86_64.manylinux_2_28_x86_64.whl.metadata (5.1 kB)\n",
            "Requirement already satisfied: tqdm in /usr/local/lib/python3.12/dist-packages (4.67.1)\n",
            "Requirement already satisfied: filelock in /usr/local/lib/python3.12/dist-packages (from torch) (3.19.1)\n",
            "Requirement already satisfied: typing-extensions>=4.10.0 in /usr/local/lib/python3.12/dist-packages (from torch) (4.15.0)\n",
            "Requirement already satisfied: setuptools in /usr/local/lib/python3.12/dist-packages (from torch) (75.2.0)\n",
            "Requirement already satisfied: sympy>=1.13.3 in /usr/local/lib/python3.12/dist-packages (from torch) (1.13.3)\n",
            "Requirement already satisfied: networkx in /usr/local/lib/python3.12/dist-packages (from torch) (3.5)\n",
            "Requirement already satisfied: jinja2 in /usr/local/lib/python3.12/dist-packages (from torch) (3.1.6)\n",
            "Requirement already satisfied: fsspec in /usr/local/lib/python3.12/dist-packages (from torch) (2025.3.0)\n",
            "Requirement already satisfied: nvidia-cuda-nvrtc-cu12==12.6.77 in /usr/local/lib/python3.12/dist-packages (from torch) (12.6.77)\n",
            "Requirement already satisfied: nvidia-cuda-runtime-cu12==12.6.77 in /usr/local/lib/python3.12/dist-packages (from torch) (12.6.77)\n",
            "Requirement already satisfied: nvidia-cuda-cupti-cu12==12.6.80 in /usr/local/lib/python3.12/dist-packages (from torch) (12.6.80)\n",
            "Requirement already satisfied: nvidia-cudnn-cu12==9.10.2.21 in /usr/local/lib/python3.12/dist-packages (from torch) (9.10.2.21)\n",
            "Requirement already satisfied: nvidia-cublas-cu12==12.6.4.1 in /usr/local/lib/python3.12/dist-packages (from torch) (12.6.4.1)\n",
            "Requirement already satisfied: nvidia-cufft-cu12==11.3.0.4 in /usr/local/lib/python3.12/dist-packages (from torch) (11.3.0.4)\n",
            "Requirement already satisfied: nvidia-curand-cu12==10.3.7.77 in /usr/local/lib/python3.12/dist-packages (from torch) (10.3.7.77)\n",
            "Requirement already satisfied: nvidia-cusolver-cu12==11.7.1.2 in /usr/local/lib/python3.12/dist-packages (from torch) (11.7.1.2)\n",
            "Requirement already satisfied: nvidia-cusparse-cu12==12.5.4.2 in /usr/local/lib/python3.12/dist-packages (from torch) (12.5.4.2)\n",
            "Requirement already satisfied: nvidia-cusparselt-cu12==0.7.1 in /usr/local/lib/python3.12/dist-packages (from torch) (0.7.1)\n",
            "Requirement already satisfied: nvidia-nccl-cu12==2.27.3 in /usr/local/lib/python3.12/dist-packages (from torch) (2.27.3)\n",
            "Requirement already satisfied: nvidia-nvtx-cu12==12.6.77 in /usr/local/lib/python3.12/dist-packages (from torch) (12.6.77)\n",
            "Requirement already satisfied: nvidia-nvjitlink-cu12==12.6.85 in /usr/local/lib/python3.12/dist-packages (from torch) (12.6.85)\n",
            "Requirement already satisfied: nvidia-cufile-cu12==1.11.1.6 in /usr/local/lib/python3.12/dist-packages (from torch) (1.11.1.6)\n",
            "Requirement already satisfied: triton==3.4.0 in /usr/local/lib/python3.12/dist-packages (from torch) (3.4.0)\n",
            "Requirement already satisfied: huggingface-hub<1.0,>=0.34.0 in /usr/local/lib/python3.12/dist-packages (from transformers) (0.34.4)\n",
            "Requirement already satisfied: numpy>=1.17 in /usr/local/lib/python3.12/dist-packages (from transformers) (2.0.2)\n",
            "Requirement already satisfied: packaging>=20.0 in /usr/local/lib/python3.12/dist-packages (from transformers) (25.0)\n",
            "Requirement already satisfied: pyyaml>=5.1 in /usr/local/lib/python3.12/dist-packages (from transformers) (6.0.2)\n",
            "Requirement already satisfied: regex!=2019.12.17 in /usr/local/lib/python3.12/dist-packages (from transformers) (2024.11.6)\n",
            "Requirement already satisfied: requests in /usr/local/lib/python3.12/dist-packages (from transformers) (2.32.4)\n",
            "Requirement already satisfied: tokenizers<0.22,>=0.21 in /usr/local/lib/python3.12/dist-packages (from transformers) (0.21.4)\n",
            "Requirement already satisfied: safetensors>=0.4.3 in /usr/local/lib/python3.12/dist-packages (from transformers) (0.6.2)\n",
            "Requirement already satisfied: hf-xet<2.0.0,>=1.1.3 in /usr/local/lib/python3.12/dist-packages (from huggingface-hub<1.0,>=0.34.0->transformers) (1.1.8)\n",
            "Requirement already satisfied: mpmath<1.4,>=1.1.0 in /usr/local/lib/python3.12/dist-packages (from sympy>=1.13.3->torch) (1.3.0)\n",
            "Requirement already satisfied: MarkupSafe>=2.0 in /usr/local/lib/python3.12/dist-packages (from jinja2->torch) (3.0.2)\n",
            "Requirement already satisfied: charset_normalizer<4,>=2 in /usr/local/lib/python3.12/dist-packages (from requests->transformers) (3.4.3)\n",
            "Requirement already satisfied: idna<4,>=2.5 in /usr/local/lib/python3.12/dist-packages (from requests->transformers) (3.10)\n",
            "Requirement already satisfied: urllib3<3,>=1.21.1 in /usr/local/lib/python3.12/dist-packages (from requests->transformers) (2.5.0)\n",
            "Requirement already satisfied: certifi>=2017.4.17 in /usr/local/lib/python3.12/dist-packages (from requests->transformers) (2025.8.3)\n",
            "Downloading faiss_cpu-1.12.0-cp312-cp312-manylinux_2_27_x86_64.manylinux_2_28_x86_64.whl (31.4 MB)\n",
            "\u001b[2K   \u001b[90m━━━━━━━━━━━━━━━━━━━━━━━━━━━━━━━━━━━━━━━━\u001b[0m \u001b[32m31.4/31.4 MB\u001b[0m \u001b[31m22.2 MB/s\u001b[0m eta \u001b[36m0:00:00\u001b[0m\n",
            "\u001b[?25hInstalling collected packages: faiss-cpu\n",
            "Successfully installed faiss-cpu-1.12.0\n"
          ]
        }
      ],
      "source": [
        "# Installed the required libraries for this project\n",
        "!pip install torch transformers faiss-cpu tqdm"
      ]
    },
    {
      "cell_type": "code",
      "source": [
        "import os\n",
        "import json\n",
        "import numpy as np\n",
        "from pathlib import Path\n",
        "from tqdm import tqdm\n",
        "\n",
        "import torch\n",
        "from transformers import T5Tokenizer, T5EncoderModel\n",
        "import faiss"
      ],
      "metadata": {
        "id": "TkLWmcub2eM2"
      },
      "execution_count": 6,
      "outputs": []
    },
    {
      "cell_type": "code",
      "source": [
        "from transformers import ByT5Tokenizer, T5EncoderModel\n",
        "import torch\n",
        "\n",
        "device = \"cuda\" if torch.cuda.is_available() else \"cpu\"\n",
        "\n",
        "# Use Google ByT5 tokenizer\n",
        "tokenizer = ByT5Tokenizer.from_pretrained(\"google/byt5-small\")\n",
        "\n",
        "# Load Buddhist NLP fine-tuned Sanskrit model\n",
        "model = T5EncoderModel.from_pretrained(\"buddhist-nlp/byt5-sanskrit\").to(device)\n",
        "model.eval()\n",
        "\n",
        "print(\"Tokenizer: google/byt5-small\")\n",
        "print(\"Model: buddhist-nlp/byt5-sanskrit\")"
      ],
      "metadata": {
        "colab": {
          "base_uri": "https://localhost:8080/",
          "height": 115,
          "referenced_widgets": [
            "e86757cc3cd8449abbc80556308cffa4",
            "2684ea7ae86441fe987acece594ff3ef",
            "6c0e67aa5641455094bdc69f22798485",
            "f2d48460596746f4b18dc04f2e95c752",
            "954860e26bc74776895d3ace9ea83f09",
            "a778fcd78edb4e2384e2120a72b6ee5d",
            "72c52bfcefe34de78db582a6829b6341",
            "5399761255f648f4bfc92ce038df25f9",
            "b1aaa74be656456395913595e56228f0",
            "e953608b01734774b24870e4ff21a49e",
            "0967438420d84588a30d8ea8331eed4a",
            "4b12f4b35daa4aa0b2c6ef590d733c5a",
            "0a339f34f5644fd692c2421d0992bd63",
            "1a824bfdd0c64e2aaabd7eb71392b876",
            "d9eb31ea38a54fb1a5c8a9eacef921f6",
            "5fde80186df14b53989a31c5084a628e",
            "097951edbc8c458abd869f6b4355ea5b",
            "dca26f20d58b48cb83b5b4877640482c",
            "642b747284d141b2938fc7a30a76ee8c",
            "c93f4c70c8d8400692a423b62e729807",
            "acc74414f9b64e63b4b581a43b049ac5",
            "0bd8d5ddcdb141db95b5f79f1d39d55c"
          ]
        },
        "id": "FarrIBf13F-Y",
        "outputId": "0baf0738-9401-4d33-d55b-db6e40c8e752"
      },
      "execution_count": 11,
      "outputs": [
        {
          "output_type": "display_data",
          "data": {
            "text/plain": [
              "pytorch_model.bin:   0%|          | 0.00/2.33G [00:00<?, ?B/s]"
            ],
            "application/vnd.jupyter.widget-view+json": {
              "version_major": 2,
              "version_minor": 0,
              "model_id": "e86757cc3cd8449abbc80556308cffa4"
            }
          },
          "metadata": {}
        },
        {
          "output_type": "display_data",
          "data": {
            "text/plain": [
              "model.safetensors:   0%|          | 0.00/2.33G [00:00<?, ?B/s]"
            ],
            "application/vnd.jupyter.widget-view+json": {
              "version_major": 2,
              "version_minor": 0,
              "model_id": "4b12f4b35daa4aa0b2c6ef590d733c5a"
            }
          },
          "metadata": {}
        },
        {
          "output_type": "stream",
          "name": "stdout",
          "text": [
            "Tokenizer: google/byt5-small\n",
            "Model: buddhist-nlp/byt5-sanskrit\n"
          ]
        }
      ]
    },
    {
      "cell_type": "code",
      "source": [
        "# --- Helper: Embed text using ByT5 (mean pooling, L2 normalized) ---\n",
        "@torch.no_grad()\n",
        "def embed_texts(texts, max_length=512):\n",
        "    vectors = []\n",
        "    for t in texts:\n",
        "        inputs = tokenizer(t, return_tensors=\"pt\", truncation=True, max_length=max_length).to(device)\n",
        "        outputs = model(**inputs)\n",
        "        vec = outputs.last_hidden_state.mean(dim=1)\n",
        "        vec = torch.nn.functional.normalize(vec, p=2, dim=1)  # cosine similarity\n",
        "        vectors.append(vec.squeeze(0).cpu().numpy())\n",
        "    return np.vstack(vectors).astype(\"float32\")\n"
      ],
      "metadata": {
        "id": "0nsufzvU3kp3"
      },
      "execution_count": 13,
      "outputs": []
    },
    {
      "cell_type": "code",
      "source": [
        "# --- Helper: Token-aware chunking for long texts ---\n",
        "def chunk_text(text, max_tokens=512, joiner=\"\\n\"):\n",
        "    lines = [ln.strip() for ln in text.splitlines() if ln.strip()]\n",
        "    chunks = []\n",
        "    buf = []\n",
        "    for ln in lines:\n",
        "        candidate = joiner.join(buf + [ln]) if buf else ln\n",
        "        tok_len = len(tokenizer(candidate)[\"input_ids\"])\n",
        "        if tok_len <= max_tokens:\n",
        "            buf.append(ln)\n",
        "        else:\n",
        "            if buf:\n",
        "                chunks.append(joiner.join(buf))\n",
        "            if len(tokenizer(ln)[\"input_ids\"]) > max_tokens:\n",
        "                # hard wrap long lines as fallback\n",
        "                for i in range(0, len(ln), 1000):\n",
        "                    chunks.append(ln[i:i+1000])\n",
        "                buf = []\n",
        "            else:\n",
        "                buf = [ln]\n",
        "    if buf:\n",
        "        chunks.append(joiner.join(buf))\n",
        "    return chunks\n"
      ],
      "metadata": {
        "id": "BGcO_FHd5AJO"
      },
      "execution_count": 14,
      "outputs": []
    },
    {
      "cell_type": "code",
      "source": [
        "!pwd #use the pwd as the input folder"
      ],
      "metadata": {
        "colab": {
          "base_uri": "https://localhost:8080/"
        },
        "id": "8ZPOsaxo5aza",
        "outputId": "24ee0101-de08-486f-e73d-09b78c705565"
      },
      "execution_count": 16,
      "outputs": [
        {
          "output_type": "stream",
          "name": "stdout",
          "text": [
            "/content\n"
          ]
        }
      ]
    },
    {
      "cell_type": "code",
      "source": [
        "!ls"
      ],
      "metadata": {
        "colab": {
          "base_uri": "https://localhost:8080/"
        },
        "id": "kIepNaLu5i68",
        "outputId": "a98c22be-ed35-409d-d2b4-fe79a7f45124"
      },
      "execution_count": 17,
      "outputs": [
        {
          "output_type": "stream",
          "name": "stdout",
          "text": [
            "sa_abhidharmasamuccayabhASya.txt  sa_vasubandhu-paJcaskandhaprakaraNa.txt\n",
            "sample_data\t\t\t  sa_vasubandhu-triMzikAvijJaptikArikA-comm.txt\n"
          ]
        }
      ]
    },
    {
      "cell_type": "code",
      "source": [
        "# --- Build FAISS index from all TXT files ---\n",
        "input_folder = \"/content/\"\n",
        "out_index_path = \"sanskrit.faiss\"\n",
        "out_meta_path = \"sanskrit_metadata.jsonl\"\n",
        "\n",
        "texts = []\n",
        "metadata = []\n",
        "\n",
        "txt_files = sorted(Path(input_folder).glob(\"*.txt\"))\n",
        "\n",
        "for file in tqdm(txt_files, desc=\"Processing TXT files\"):\n",
        "    content = file.read_text(encoding=\"utf-8\", errors=\"ignore\").strip()\n",
        "    if not content:\n",
        "        continue\n",
        "    chunks = chunk_text(content, max_tokens=512)\n",
        "    for i, ch in enumerate(chunks):\n",
        "        texts.append(ch)\n",
        "        metadata.append({\n",
        "            \"source_file\": file.name,\n",
        "            \"chunk_id\": i,\n",
        "            \"text\": ch\n",
        "        })\n",
        "\n",
        "print(f\"Total chunks: {len(texts)}\")\n"
      ],
      "metadata": {
        "colab": {
          "base_uri": "https://localhost:8080/"
        },
        "id": "15bowoqs5TPP",
        "outputId": "45448368-351d-4ab9-ed82-7ad87dbd2d97"
      },
      "execution_count": 18,
      "outputs": [
        {
          "output_type": "stream",
          "name": "stderr",
          "text": [
            "\n",
            "\n",
            "Processing TXT files:   0%|          | 0/3 [00:00<?, ?it/s]\u001b[A\u001b[A\n",
            "\n",
            "Processing TXT files:  33%|███▎      | 1/3 [00:01<00:02,  1.33s/it]\u001b[A\u001b[A\n",
            "\n",
            "Processing TXT files:  67%|██████▋   | 2/3 [00:05<00:03,  3.08s/it]\u001b[A\u001b[A\n",
            "\n",
            "Processing TXT files: 100%|██████████| 3/3 [00:05<00:00,  1.97s/it]"
          ]
        },
        {
          "output_type": "stream",
          "name": "stdout",
          "text": [
            "Total chunks: 761\n"
          ]
        },
        {
          "output_type": "stream",
          "name": "stderr",
          "text": [
            "\n"
          ]
        }
      ]
    },
    {
      "cell_type": "code",
      "source": [
        "embeddings = embed_texts(texts, max_length=512)\n",
        "print(\"Embeddings shape:\", embeddings.shape)\n"
      ],
      "metadata": {
        "colab": {
          "base_uri": "https://localhost:8080/",
          "height": 34
        },
        "id": "YvNwy-l05lrR",
        "outputId": "e23ec781-334e-4cac-f2c2-912e0132413c"
      },
      "execution_count": 19,
      "outputs": [
        {
          "output_type": "stream",
          "name": "stdout",
          "text": [
            "Embeddings shape: (761, 1536)\n"
          ]
        }
      ]
    },
    {
      "cell_type": "code",
      "source": [
        "index = faiss.IndexFlatIP(embeddings.shape[1])  # inner product on unit vectors = cosine\n",
        "index.add(embeddings)\n",
        "print(\"Index built with\", index.ntotal, \"vectors\")\n",
        "\n",
        "faiss.write_index(index, out_index_path)\n",
        "with open(out_meta_path, \"w\", encoding=\"utf-8\") as f:\n",
        "    for m in metadata:\n",
        "        f.write(json.dumps(m, ensure_ascii=False) + \"\\n\")\n",
        "\n",
        "print(f\"FAISS index saved to {out_index_path}\")\n",
        "print(f\"Metadata saved to {out_meta_path}\")\n"
      ],
      "metadata": {
        "colab": {
          "base_uri": "https://localhost:8080/"
        },
        "id": "HHrTD-6z5rc5",
        "outputId": "3576009f-7f2f-4090-9cb2-73cb51357bcc"
      },
      "execution_count": 20,
      "outputs": [
        {
          "output_type": "stream",
          "name": "stdout",
          "text": [
            "Index built with 761 vectors\n",
            "FAISS index saved to sanskrit.faiss\n",
            "Metadata saved to sanskrit_metadata.jsonl\n"
          ]
        }
      ]
    },
    {
      "cell_type": "code",
      "source": [
        "index = faiss.read_index(out_index_path)\n",
        "meta = [json.loads(line) for line in open(out_meta_path, encoding=\"utf-8\")]\n",
        "\n",
        "@torch.no_grad()\n",
        "def embed_query(query, max_length=512):\n",
        "    inputs = tokenizer(query, return_tensors=\"pt\", truncation=True, max_length=max_length).to(device)\n",
        "    outputs = model(**inputs)\n",
        "    vec = outputs.last_hidden_state.mean(dim=1)\n",
        "    vec = torch.nn.functional.normalize(vec, p=2, dim=1)\n",
        "    return vec.squeeze(0).cpu().numpy().astype(\"float32\").reshape(1, -1)\n",
        "\n",
        "def search(query, k=5):\n",
        "    qvec = embed_query(query)\n",
        "    sims, ids = index.search(qvec, k)\n",
        "    results = []\n",
        "    for rank, (idx, score) in enumerate(zip(ids[0], sims[0]), 1):\n",
        "        m = meta[idx]\n",
        "        results.append((rank, score, m[\"source_file\"], m[\"chunk_id\"], m[\"text\"]))\n",
        "    return results\n"
      ],
      "metadata": {
        "id": "nJ589oQV589S"
      },
      "execution_count": 21,
      "outputs": []
    },
    {
      "cell_type": "code",
      "source": [
        "query_text = \"candramāḥ rāhuḥ buddha gāthā\"  # example Sanskrit query\n",
        "results = search(query_text, k=3)\n",
        "\n",
        "for rank, score, fname, cid, txt in results:\n",
        "    print(f\"\\n#{rank} | score={score:.4f} | file={fname} | chunk={cid}\")\n",
        "    print(\"-\" * 80)\n",
        "    print(txt[:500])  # show first 500 characters\n"
      ],
      "metadata": {
        "colab": {
          "base_uri": "https://localhost:8080/"
        },
        "id": "0ycXIyq36CSB",
        "outputId": "914faf87-e9e4-4778-ce5c-a675368709e6"
      },
      "execution_count": 22,
      "outputs": [
        {
          "output_type": "stream",
          "name": "stdout",
          "text": [
            "\n",
            "#1 | score=0.7556 | file=sa_vasubandhu-triMzikAvijJaptikArikA-comm.txt | chunk=112\n",
            "--------------------------------------------------------------------------------\n",
            "atra gāthā |\n",
            "ādānavijñāna gabhīrasūkṣmo ogho yathā vartati sarvabījo | bālāna eṣo mayi na prakāśi mā haiva ātmā parikalpayeyur\n",
            "\n",
            "#2 | score=0.7305 | file=sa_vasubandhu-paJcaskandhaprakaraNa.txt | chunk=40\n",
            "--------------------------------------------------------------------------------\n",
            "kati sabhāgāḥ / ādhyātmikāḥ pañca rūpiṇaḥ / svavijñānasahitaviṣayasadṛśatāmupādāya // 166 //\n",
            "kati tatsabhāgāḥ / ta eva svavijñānavirahitasvānvayasadṛśatāmupādāya // 167 //\n",
            "dhātūddyeśanirdeśakastṛtīyādhikaraḥ pariniṣṭitaḥ /\n",
            "ācāryavasubandhuviracit pañcaskandhaprakaraṇaṃ samāptam / pañcaskandhaprakaraṇaṃ śāstriṇā śāntibhikṣuṇā /\n",
            "bhoṭānuvādamāgamya saṃskṛte punaruddhṛtam\n",
            "\n",
            "#3 | score=0.7123 | file=sa_abhidharmasamuccayabhASya.txt | chunk=520\n",
            "--------------------------------------------------------------------------------\n",
            "[vādādhikaraṇam] atra vādaḥ kriyata iti kṛtvā / rājakulaṃ yatra rājā svayaṃ saṃnihitaḥ yuktakulaṃ yatra rājñādhiyuktāḥ sabhā vaṇik sabhādi / prāmāṇikāḥ sahāyakāḥ yeṣāṃ vacanaṃ vādiprativādinau na saṃśayataḥ / dharmārthakuśalāśca śramaṇabrāhmaṇā ye teṣu śāstreṣu granthataścārthataśca vyutpannabuddhayaḥ //\n",
            "vādādhiṣṭhānaṃ yadadhiṣṭhāya vādaḥ kriyate tadyathā sādhyaṃ sādhanaṃ ca //\n"
          ]
        }
      ]
    },
    {
      "cell_type": "code",
      "source": [],
      "metadata": {
        "id": "rSfeTOyA6D_O"
      },
      "execution_count": null,
      "outputs": []
    }
  ]
}